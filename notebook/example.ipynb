{
  "cells": [
    {
      "cell_type": "markdown",
      "metadata": {
        "id": "fJRrdB_JVJhD"
      },
      "source": [
        "Hello, I'm an example Jupyter Notebook!"
      ]
    },
    {
      "cell_type": "code",
      "execution_count": 1,
      "metadata": {},
      "outputs": [],
      "source": [
        "import numpy as np\n",
        "import matplotlib.pyplot as plt\n",
        "import seaborn as sb\n",
        "import sklearn as sk\n",
        "import pandas as pd\n",
        "from scipy.optimize import curve_fit\n",
        "from scipy import stats\n",
        "import random\n",
        "from sklearn.metrics import r2_score\n",
        "from sklearn.model_selection import train_test_split\n"
      ]
    },
    {
      "cell_type": "code",
      "execution_count": 2,
      "metadata": {
        "colab": {
          "base_uri": "https://localhost:8080/"
        },
        "id": "ykNvQpnMVQDn",
        "outputId": "5e946dec-b175-4def-d79d-b27f125760a3"
      },
      "outputs": [
        {
          "name": "stdout",
          "output_type": "stream",
          "text": [
            "Abeto Mengistu\n"
          ]
        }
      ],
      "source": [
        "# This is some python code\n",
        "print(\"Abeto Mengistu\")"
      ]
    },
    {
      "cell_type": "code",
      "execution_count": 3,
      "metadata": {},
      "outputs": [],
      "source": [
        "df = pd.read_csv(\"possum.csv\")"
      ]
    },
    {
      "cell_type": "code",
      "execution_count": 4,
      "metadata": {},
      "outputs": [],
      "source": [
        "df.head()\n",
        "df = df.dropna()"
      ]
    },
    {
      "cell_type": "code",
      "execution_count": null,
      "metadata": {},
      "outputs": [],
      "source": []
    },
    {
      "cell_type": "code",
      "execution_count": 5,
      "metadata": {},
      "outputs": [],
      "source": [
        "x = df[\"hdlngth\"]\n",
        "y = df[\"totlngth\"].values"
      ]
    },
    {
      "cell_type": "code",
      "execution_count": 6,
      "metadata": {},
      "outputs": [],
      "source": [
        "x = np.array(x).reshape(-1, 1)\n",
        "y = np.array(y)"
      ]
    },
    {
      "cell_type": "code",
      "execution_count": 10,
      "metadata": {},
      "outputs": [
        {
          "name": "stdout",
          "output_type": "stream",
          "text": [
            "[[ 94.1]\n",
            " [ 92.5]\n",
            " [ 94. ]\n",
            " [ 93.2]\n",
            " [ 91.5]\n",
            " [ 93.1]\n",
            " [ 95.3]\n",
            " [ 94.8]\n",
            " [ 93.4]\n",
            " [ 91.8]\n",
            " [ 93.3]\n",
            " [ 94.9]\n",
            " [ 95.1]\n",
            " [ 95.4]\n",
            " [ 92.9]\n",
            " [ 91.6]\n",
            " [ 94.7]\n",
            " [ 93.5]\n",
            " [ 94.4]\n",
            " [ 94.8]\n",
            " [ 95.9]\n",
            " [ 96.3]\n",
            " [ 92.5]\n",
            " [ 94.4]\n",
            " [ 95.8]\n",
            " [ 96. ]\n",
            " [ 90.5]\n",
            " [ 93.8]\n",
            " [ 92.8]\n",
            " [ 92.1]\n",
            " [ 92.8]\n",
            " [ 94.3]\n",
            " [ 91.4]\n",
            " [ 90.6]\n",
            " [ 94.4]\n",
            " [ 93.3]\n",
            " [ 89.3]\n",
            " [ 92.4]\n",
            " [ 84.7]\n",
            " [ 91. ]\n",
            " [ 85.3]\n",
            " [ 90. ]\n",
            " [ 90.7]\n",
            " [ 90.1]\n",
            " [ 98.6]\n",
            " [ 95.4]\n",
            " [ 91.6]\n",
            " [ 95.6]\n",
            " [ 97.6]\n",
            " [ 93.1]\n",
            " [ 96.9]\n",
            " [103.1]\n",
            " [ 99.9]\n",
            " [ 95.1]\n",
            " [ 94.5]\n",
            " [102.5]\n",
            " [ 91.3]\n",
            " [ 95.7]\n",
            " [ 91.3]\n",
            " [ 92. ]\n",
            " [ 96.9]\n",
            " [ 93.5]\n",
            " [ 90.4]\n",
            " [ 93.3]\n",
            " [ 94.1]\n",
            " [ 98. ]\n",
            " [ 91.9]\n",
            " [ 92.8]\n",
            " [ 85.9]\n",
            " [ 82.5]\n",
            " [ 88.7]\n",
            " [ 93.8]\n",
            " [ 92.4]\n",
            " [ 93.6]\n",
            " [ 86.5]\n",
            " [ 85.8]\n",
            " [ 86.7]\n",
            " [ 90.6]\n",
            " [ 86. ]\n",
            " [ 90. ]\n",
            " [ 88.4]\n",
            " [ 89.5]\n",
            " [ 88.2]\n",
            " [ 98.5]\n",
            " [ 89.6]\n",
            " [ 97.7]\n",
            " [ 92.6]\n",
            " [ 97.8]\n",
            " [ 90.7]\n",
            " [ 89.2]\n",
            " [ 91.8]\n",
            " [ 91.6]\n",
            " [ 94.8]\n",
            " [ 91. ]\n",
            " [ 93.2]\n",
            " [ 93.3]\n",
            " [ 89.5]\n",
            " [ 88.6]\n",
            " [ 92.4]\n",
            " [ 91.5]\n",
            " [ 93.6]]\n",
            "[89.  91.5 95.5 92.  85.5 90.5 89.5 91.  91.5 89.5 89.5 92.  89.5 91.5\n",
            " 85.5 86.  89.5 90.  90.5 89.  96.5 91.  89.  84.  91.5 90.  85.  87.\n",
            " 88.  84.  93.  94.  89.  85.5 85.  88.  82.5 80.5 75.  84.5 77.  81.\n",
            " 81.  89.  85.  85.  88.  85.  93.5 91.  91.5 92.5 93.7 93.  91.  96.\n",
            " 88.  86.  90.5 88.5 89.5 88.5 86.  85.  88.5 88.  87.  90.  80.5 82.\n",
            " 83.  89.  89.  84.  81.  81.  84.  85.5 82.  81.5 80.5 92.  86.5 93.\n",
            " 87.5 84.5 85.  89.  85.  82.  84.  88.5 83.  86.  84.  86.5 81.5 82.5\n",
            " 89.  82.5 89. ]\n"
          ]
        }
      ],
      "source": [
        "print(x)\n",
        "print(y)"
      ]
    },
    {
      "cell_type": "code",
      "execution_count": 8,
      "metadata": {},
      "outputs": [],
      "source": [
        "def linear_line(x, m, b):\n",
        "    y = m*x + b\n",
        "    return y"
      ]
    },
    {
      "cell_type": "code",
      "execution_count": 9,
      "metadata": {},
      "outputs": [
        {
          "ename": "ValueError",
          "evalue": "object too deep for desired array",
          "output_type": "error",
          "traceback": [
            "\u001b[0;31m---------------------------------------------------------------------------\u001b[0m",
            "\u001b[0;31mValueError\u001b[0m                                Traceback (most recent call last)",
            "\u001b[0;31mValueError\u001b[0m: object too deep for desired array"
          ]
        },
        {
          "ename": "error",
          "evalue": "Result from function call is not a proper array of floats.",
          "output_type": "error",
          "traceback": [
            "\u001b[0;31m---------------------------------------------------------------------------\u001b[0m",
            "\u001b[0;31merror\u001b[0m                                     Traceback (most recent call last)",
            "\u001b[1;32m/workspace/Homework2/notebook/example.ipynb Cell 11\u001b[0m in \u001b[0;36m<cell line: 1>\u001b[0;34m()\u001b[0m\n\u001b[0;32m----> <a href='vscode-notebook-cell://abetomengistu-homework2-qdas68p3gfi.ws-us60.gitpod.io/workspace/Homework2/notebook/example.ipynb#X12sdnNjb2RlLXJlbW90ZQ%3D%3D?line=0'>1</a>\u001b[0m opt, cov \u001b[39m=\u001b[39m curve_fit(linear_line, x, y)\n\u001b[1;32m      <a href='vscode-notebook-cell://abetomengistu-homework2-qdas68p3gfi.ws-us60.gitpod.io/workspace/Homework2/notebook/example.ipynb#X12sdnNjb2RlLXJlbW90ZQ%3D%3D?line=2'>3</a>\u001b[0m \u001b[39mprint\u001b[39m(opt)\n\u001b[1;32m      <a href='vscode-notebook-cell://abetomengistu-homework2-qdas68p3gfi.ws-us60.gitpod.io/workspace/Homework2/notebook/example.ipynb#X12sdnNjb2RlLXJlbW90ZQ%3D%3D?line=3'>4</a>\u001b[0m \u001b[39mprint\u001b[39m(cov)\n",
            "File \u001b[0;32m/workspace/.pyenv_mirror/user/3.8.13/lib/python3.8/site-packages/scipy/optimize/_minpack_py.py:834\u001b[0m, in \u001b[0;36mcurve_fit\u001b[0;34m(f, xdata, ydata, p0, sigma, absolute_sigma, check_finite, bounds, method, jac, full_output, **kwargs)\u001b[0m\n\u001b[1;32m    831\u001b[0m \u001b[39mif\u001b[39;00m ydata\u001b[39m.\u001b[39msize \u001b[39m!=\u001b[39m \u001b[39m1\u001b[39m \u001b[39mand\u001b[39;00m n \u001b[39m>\u001b[39m ydata\u001b[39m.\u001b[39msize:\n\u001b[1;32m    832\u001b[0m     \u001b[39mraise\u001b[39;00m \u001b[39mTypeError\u001b[39;00m(\u001b[39mf\u001b[39m\u001b[39m\"\u001b[39m\u001b[39mThe number of func parameters=\u001b[39m\u001b[39m{\u001b[39;00mn\u001b[39m}\u001b[39;00m\u001b[39m must not\u001b[39m\u001b[39m\"\u001b[39m\n\u001b[1;32m    833\u001b[0m                     \u001b[39mf\u001b[39m\u001b[39m\"\u001b[39m\u001b[39m exceed the number of data points=\u001b[39m\u001b[39m{\u001b[39;00mydata\u001b[39m.\u001b[39msize\u001b[39m}\u001b[39;00m\u001b[39m\"\u001b[39m)\n\u001b[0;32m--> 834\u001b[0m res \u001b[39m=\u001b[39m leastsq(func, p0, Dfun\u001b[39m=\u001b[39;49mjac, full_output\u001b[39m=\u001b[39;49m\u001b[39m1\u001b[39;49m, \u001b[39m*\u001b[39;49m\u001b[39m*\u001b[39;49mkwargs)\n\u001b[1;32m    835\u001b[0m popt, pcov, infodict, errmsg, ier \u001b[39m=\u001b[39m res\n\u001b[1;32m    836\u001b[0m ysize \u001b[39m=\u001b[39m \u001b[39mlen\u001b[39m(infodict[\u001b[39m'\u001b[39m\u001b[39mfvec\u001b[39m\u001b[39m'\u001b[39m])\n",
            "File \u001b[0;32m/workspace/.pyenv_mirror/user/3.8.13/lib/python3.8/site-packages/scipy/optimize/_minpack_py.py:423\u001b[0m, in \u001b[0;36mleastsq\u001b[0;34m(func, x0, args, Dfun, full_output, col_deriv, ftol, xtol, gtol, maxfev, epsfcn, factor, diag)\u001b[0m\n\u001b[1;32m    421\u001b[0m     \u001b[39mif\u001b[39;00m maxfev \u001b[39m==\u001b[39m \u001b[39m0\u001b[39m:\n\u001b[1;32m    422\u001b[0m         maxfev \u001b[39m=\u001b[39m \u001b[39m200\u001b[39m\u001b[39m*\u001b[39m(n \u001b[39m+\u001b[39m \u001b[39m1\u001b[39m)\n\u001b[0;32m--> 423\u001b[0m     retval \u001b[39m=\u001b[39m _minpack\u001b[39m.\u001b[39;49m_lmdif(func, x0, args, full_output, ftol, xtol,\n\u001b[1;32m    424\u001b[0m                              gtol, maxfev, epsfcn, factor, diag)\n\u001b[1;32m    425\u001b[0m \u001b[39melse\u001b[39;00m:\n\u001b[1;32m    426\u001b[0m     \u001b[39mif\u001b[39;00m col_deriv:\n",
            "\u001b[0;31merror\u001b[0m: Result from function call is not a proper array of floats."
          ]
        }
      ],
      "source": [
        "opt, cov = curve_fit(linear_line, x, y)\n",
        "\n",
        "print(opt)\n",
        "print(cov)\n"
      ]
    },
    {
      "cell_type": "code",
      "execution_count": 56,
      "metadata": {},
      "outputs": [
        {
          "ename": "NameError",
          "evalue": "name 'opt' is not defined",
          "output_type": "error",
          "traceback": [
            "\u001b[0;31m---------------------------------------------------------------------------\u001b[0m",
            "\u001b[0;31mNameError\u001b[0m                                 Traceback (most recent call last)",
            "\u001b[1;32m/workspace/Homework2/notebook/example.ipynb Cell 11\u001b[0m in \u001b[0;36m<cell line: 3>\u001b[0;34m()\u001b[0m\n\u001b[1;32m      <a href='vscode-notebook-cell://abetomengistu-homework2-qdas68p3gfi.ws-us60.gitpod.io/workspace/Homework2/notebook/example.ipynb#X13sdnNjb2RlLXJlbW90ZQ%3D%3D?line=0'>1</a>\u001b[0m plt\u001b[39m.\u001b[39mscatter(x, y)\n\u001b[0;32m----> <a href='vscode-notebook-cell://abetomengistu-homework2-qdas68p3gfi.ws-us60.gitpod.io/workspace/Homework2/notebook/example.ipynb#X13sdnNjb2RlLXJlbW90ZQ%3D%3D?line=2'>3</a>\u001b[0m plt\u001b[39m.\u001b[39mplot(x, linear_line(x, opt[\u001b[39m0\u001b[39m], opt[\u001b[39m1\u001b[39m]))\n",
            "\u001b[0;31mNameError\u001b[0m: name 'opt' is not defined"
          ]
        },
        {
          "data": {
            "image/png": "[encoded data removed]",
            "text/plain": [
              "<Figure size 432x288 with 1 Axes>"
            ]
          },
          "metadata": {
            "needs_background": "light"
          },
          "output_type": "display_data"
        }
      ],
      "source": [
        "plt.scatter(x, y)\n",
        "\n",
        "plt.plot(x, linear_line(x, opt[0], opt[1]))"
      ]
    },
    {
      "cell_type": "markdown",
      "metadata": {},
      "source": [
        "1. It describes the data well because it shows all the data points while giving us a line of best fit to show a general trend.\n",
        "\n",
        "2. I would say that it would make it more accurate because the more specific you make the variables the more accurate the answer will be."
      ]
    },
    {
      "cell_type": "code",
      "execution_count": null,
      "metadata": {},
      "outputs": [],
      "source": [
        "train, test=train_test_split(df,test_size=0.2,random_state=1010)\n",
        "\n",
        "x = train[['age', 'hdlngth', 'skullw', 'taill', 'footlgth', 'earconch', 'eye', 'chest', 'belly']].values\n",
        "y = train['totlngth'].values\n",
        "\n",
        "\n",
        "test_x = test[['age', 'hdlngth', 'skullw', 'taill', 'footlgth', 'earconch', 'eye', 'chest', 'belly']].values\n",
        "test_y = test['totlngth'].values\n"
      ]
    },
    {
      "cell_type": "code",
      "execution_count": null,
      "metadata": {},
      "outputs": [],
      "source": []
    },
    {
      "cell_type": "code",
      "execution_count": null,
      "metadata": {},
      "outputs": [],
      "source": [
        "from sklearn.linear_model import Lasso"
      ]
    },
    {
      "cell_type": "code",
      "execution_count": null,
      "metadata": {},
      "outputs": [],
      "source": [
        "lasso = Lasso(alpha=1)\n",
        "lasso.fit(x, y)"
      ]
    },
    {
      "cell_type": "code",
      "execution_count": null,
      "metadata": {},
      "outputs": [],
      "source": [
        "print(lasso.coef_)"
      ]
    },
    {
      "cell_type": "markdown",
      "metadata": {},
      "source": [
        "3. The top three clasifiers are headlength, skull width, and tail length."
      ]
    },
    {
      "cell_type": "code",
      "execution_count": null,
      "metadata": {},
      "outputs": [],
      "source": [
        "df.head()"
      ]
    },
    {
      "cell_type": "code",
      "execution_count": null,
      "metadata": {},
      "outputs": [],
      "source": [
        "from sklearn.linear_model import LogisticRegression\n",
        "from scipy.special import expit"
      ]
    },
    {
      "cell_type": "code",
      "execution_count": null,
      "metadata": {},
      "outputs": [],
      "source": [
        "logreg = LogisticRegression()"
      ]
    },
    {
      "cell_type": "code",
      "execution_count": null,
      "metadata": {},
      "outputs": [],
      "source": [
        "df['sex_num'] = df['sex'].replace(['m', 'f'],\n",
        "                        [0, 1], inplace=False)"
      ]
    },
    {
      "cell_type": "code",
      "execution_count": null,
      "metadata": {},
      "outputs": [],
      "source": [
        "df.head()"
      ]
    },
    {
      "cell_type": "code",
      "execution_count": null,
      "metadata": {},
      "outputs": [],
      "source": [
        "y_num = ['sex_num']"
      ]
    },
    {
      "cell_type": "code",
      "execution_count": null,
      "metadata": {},
      "outputs": [],
      "source": [
        "train, test=train_test_split(df,test_size=0.2,random_state=1010)\n",
        "\n",
        "x = train[['age', 'hdlngth', 'skullw', 'taill', 'footlgth', 'earconch', 'eye', 'chest', 'belly']].values\n",
        "y_num = train['sex_num'].values\n",
        "x_log = train[['hdlngth']]\n",
        "\n",
        "\n",
        "test_x = test[['age', 'hdlngth', 'skullw', 'taill', 'footlgth', 'earconch', 'eye', 'chest', 'belly']].values\n",
        "test_y = test['sex_num'].values\n",
        "x_test_log = test['hdlngth']\n"
      ]
    },
    {
      "cell_type": "code",
      "execution_count": 11,
      "metadata": {},
      "outputs": [
        {
          "ename": "NameError",
          "evalue": "name 'logreg' is not defined",
          "output_type": "error",
          "traceback": [
            "\u001b[0;31m---------------------------------------------------------------------------\u001b[0m",
            "\u001b[0;31mNameError\u001b[0m                                 Traceback (most recent call last)",
            "\u001b[1;32m/workspace/Homework2/notebook/example.ipynb Cell 27\u001b[0m in \u001b[0;36m<cell line: 2>\u001b[0;34m()\u001b[0m\n\u001b[1;32m      <a href='vscode-notebook-cell://abetomengistu-homework2-qdas68p3gfi.ws-us60.gitpod.io/workspace/Homework2/notebook/example.ipynb#X34sdnNjb2RlLXJlbW90ZQ%3D%3D?line=0'>1</a>\u001b[0m x_line \u001b[39m=\u001b[39m np\u001b[39m.\u001b[39mlinspace(\u001b[39m30\u001b[39m,\u001b[39m110\u001b[39m,\u001b[39m1000\u001b[39m)\n\u001b[0;32m----> <a href='vscode-notebook-cell://abetomengistu-homework2-qdas68p3gfi.ws-us60.gitpod.io/workspace/Homework2/notebook/example.ipynb#X34sdnNjb2RlLXJlbW90ZQ%3D%3D?line=1'>2</a>\u001b[0m y_line \u001b[39m=\u001b[39m x_line \u001b[39m*\u001b[39m logreg\u001b[39m.\u001b[39mcoef_ \u001b[39m+\u001b[39m logreg\u001b[39m.\u001b[39mintercept_\n",
            "\u001b[0;31mNameError\u001b[0m: name 'logreg' is not defined"
          ]
        }
      ],
      "source": [
        "x_line = np.linspace(30,110,1000)\n",
        "y_line = x_line * logreg.coef_ + logreg.intercept_"
      ]
    },
    {
      "cell_type": "code",
      "execution_count": 12,
      "metadata": {},
      "outputs": [
        {
          "ename": "NameError",
          "evalue": "name 'expit' is not defined",
          "output_type": "error",
          "traceback": [
            "\u001b[0;31m---------------------------------------------------------------------------\u001b[0m",
            "\u001b[0;31mNameError\u001b[0m                                 Traceback (most recent call last)",
            "\u001b[1;32m/workspace/Homework2/notebook/example.ipynb Cell 28\u001b[0m in \u001b[0;36m<cell line: 1>\u001b[0;34m()\u001b[0m\n\u001b[0;32m----> <a href='vscode-notebook-cell://abetomengistu-homework2-qdas68p3gfi.ws-us60.gitpod.io/workspace/Homework2/notebook/example.ipynb#X35sdnNjb2RlLXJlbW90ZQ%3D%3D?line=0'>1</a>\u001b[0m sigmoid \u001b[39m=\u001b[39m expit(y_line)\n",
            "\u001b[0;31mNameError\u001b[0m: name 'expit' is not defined"
          ]
        }
      ],
      "source": [
        "sigmoid = expit(y_line)"
      ]
    },
    {
      "cell_type": "code",
      "execution_count": 13,
      "metadata": {},
      "outputs": [
        {
          "ename": "NameError",
          "evalue": "name 'logreg' is not defined",
          "output_type": "error",
          "traceback": [
            "\u001b[0;31m---------------------------------------------------------------------------\u001b[0m",
            "\u001b[0;31mNameError\u001b[0m                                 Traceback (most recent call last)",
            "\u001b[1;32m/workspace/Homework2/notebook/example.ipynb Cell 29\u001b[0m in \u001b[0;36m<cell line: 1>\u001b[0;34m()\u001b[0m\n\u001b[0;32m----> <a href='vscode-notebook-cell://abetomengistu-homework2-qdas68p3gfi.ws-us60.gitpod.io/workspace/Homework2/notebook/example.ipynb#X36sdnNjb2RlLXJlbW90ZQ%3D%3D?line=0'>1</a>\u001b[0m logreg\u001b[39m.\u001b[39mfit(x_log,y_num)\n",
            "\u001b[0;31mNameError\u001b[0m: name 'logreg' is not defined"
          ]
        }
      ],
      "source": [
        "logreg.fit(x_log,y_num)"
      ]
    },
    {
      "cell_type": "code",
      "execution_count": 14,
      "metadata": {},
      "outputs": [
        {
          "ename": "NameError",
          "evalue": "name 'x_log' is not defined",
          "output_type": "error",
          "traceback": [
            "\u001b[0;31m---------------------------------------------------------------------------\u001b[0m",
            "\u001b[0;31mNameError\u001b[0m                                 Traceback (most recent call last)",
            "\u001b[1;32m/workspace/Homework2/notebook/example.ipynb Cell 30\u001b[0m in \u001b[0;36m<cell line: 1>\u001b[0;34m()\u001b[0m\n\u001b[0;32m----> <a href='vscode-notebook-cell://abetomengistu-homework2-qdas68p3gfi.ws-us60.gitpod.io/workspace/Homework2/notebook/example.ipynb#X40sdnNjb2RlLXJlbW90ZQ%3D%3D?line=0'>1</a>\u001b[0m plt\u001b[39m.\u001b[39mscatter(x_log, y_num, label\u001b[39m=\u001b[39m\u001b[39m\"\u001b[39m\u001b[39msex_num\u001b[39m\u001b[39m\"\u001b[39m)\n\u001b[1;32m      <a href='vscode-notebook-cell://abetomengistu-homework2-qdas68p3gfi.ws-us60.gitpod.io/workspace/Homework2/notebook/example.ipynb#X40sdnNjb2RlLXJlbW90ZQ%3D%3D?line=1'>2</a>\u001b[0m plt\u001b[39m.\u001b[39mscatter(x_test_log, test_y, label\u001b[39m=\u001b[39m\u001b[39m\"\u001b[39m\u001b[39mtesting data\u001b[39m\u001b[39m\"\u001b[39m)\n\u001b[1;32m      <a href='vscode-notebook-cell://abetomengistu-homework2-qdas68p3gfi.ws-us60.gitpod.io/workspace/Homework2/notebook/example.ipynb#X40sdnNjb2RlLXJlbW90ZQ%3D%3D?line=2'>3</a>\u001b[0m plt\u001b[39m.\u001b[39mplot(x_line,sigmoid\u001b[39m.\u001b[39mravel(),c\u001b[39m=\u001b[39m\u001b[39m\"\u001b[39m\u001b[39mgreen\u001b[39m\u001b[39m\"\u001b[39m, label \u001b[39m=\u001b[39m \u001b[39m\"\u001b[39m\u001b[39mlogistic fit\u001b[39m\u001b[39m\"\u001b[39m)\n",
            "\u001b[0;31mNameError\u001b[0m: name 'x_log' is not defined"
          ]
        }
      ],
      "source": [
        "plt.scatter(x_log, y_num, label=\"sex_num\")\n",
        "plt.scatter(x_test_log, test_y, label=\"testing data\")\n",
        "plt.plot(x_line,sigmoid.ravel(),c=\"green\", label = \"logistic fit\")\n",
        "plt.axhline(.5, color=\"red\", label=\"cutoff\")\n",
        "plt.legend()\n",
        "plt.xlabel(\"test_x\")\n",
        "plt.ylabel(\"test_y\")"
      ]
    },
    {
      "cell_type": "code",
      "execution_count": 15,
      "metadata": {},
      "outputs": [],
      "source": [
        "from sklearn.linear_model import Lasso"
      ]
    },
    {
      "cell_type": "code",
      "execution_count": null,
      "metadata": {},
      "outputs": [],
      "source": [
        "lasso = Lasso(alpha=0.1)\n",
        "lasso.fit(x, y_num)"
      ]
    },
    {
      "cell_type": "code",
      "execution_count": null,
      "metadata": {},
      "outputs": [],
      "source": [
        "lasso_train= lasso.predict(x)\n",
        "lasso_test= lasso.predict(test_x)"
      ]
    },
    {
      "cell_type": "code",
      "execution_count": null,
      "metadata": {},
      "outputs": [],
      "source": [
        "plt.figure(figsize=(4,4))\n",
        "\n",
        "plt.scatter(y_num,lasso_train, label='train')\n",
        "plt.scatter(test_y,lasso_test,color='r', label='test')\n",
        "plt.plot([0,3],[0,3],lw=4,color='black')\n",
        "plt.legend()"
      ]
    },
    {
      "cell_type": "code",
      "execution_count": null,
      "metadata": {},
      "outputs": [],
      "source": [
        "from sklearn import metrics"
      ]
    },
    {
      "cell_type": "code",
      "execution_count": null,
      "metadata": {},
      "outputs": [],
      "source": [
        "knn = KNeighborsRegressor(n_neighbors=3)\n",
        "knn.fit(x, y_num)"
      ]
    },
    {
      "cell_type": "code",
      "execution_count": null,
      "metadata": {},
      "outputs": [],
      "source": []
    },
    {
      "cell_type": "code",
      "execution_count": null,
      "metadata": {},
      "outputs": [],
      "source": []
    },
    {
      "cell_type": "code",
      "execution_count": null,
      "metadata": {},
      "outputs": [],
      "source": []
    },
    {
      "cell_type": "code",
      "execution_count": null,
      "metadata": {},
      "outputs": [],
      "source": []
    },
    {
      "cell_type": "markdown",
      "metadata": {},
      "source": [
        "4. To me I think the first one seems to be more accurate.\n",
        "5. I think that the confusion matrices"
      ]
    },
    {
      "cell_type": "code",
      "execution_count": null,
      "metadata": {},
      "outputs": [],
      "source": []
    },
    {
      "cell_type": "code",
      "execution_count": null,
      "metadata": {},
      "outputs": [],
      "source": []
    },
    {
      "cell_type": "code",
      "execution_count": null,
      "metadata": {},
      "outputs": [],
      "source": []
    },
    {
      "cell_type": "code",
      "execution_count": null,
      "metadata": {},
      "outputs": [],
      "source": []
    }
  ],
  "metadata": {
    "colab": {
      "collapsed_sections": [],
      "name": "colab-github-demo.ipynb",
      "provenance": []
    },
    "kernelspec": {
      "display_name": "Python 3.8.13 64-bit ('shims')",
      "language": "python",
      "name": "python3"
    },
    "language_info": {
      "codemirror_mode": {
        "name": "ipython",
        "version": 3
      },
      "file_extension": ".py",
      "mimetype": "text/x-python",
      "name": "python",
      "nbconvert_exporter": "python",
      "pygments_lexer": "ipython3",
      "version": "3.8.13"
    },
    "vscode": {
      "interpreter": {
        "hash": "9ac03a0a6051494cc606d484d27d20fce22fb7b4d169f583271e11d5ba46a56e"
      }
    }
  },
  "nbformat": 4,
  "nbformat_minor": 0
}
